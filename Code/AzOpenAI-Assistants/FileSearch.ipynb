{
 "cells": [
  {
   "cell_type": "markdown",
   "id": "515dc9bf",
   "metadata": {},
   "source": [
    "# Azure OpenAI Assistants - File Search\n",
    "\n",
    "The Azure OpenAI Assistants file search tool automatically parses and chunks your documents, creates and stores the embeddings, and use both vector and keyword search to retrieve relevant content to answer user queries.\n",
    "\n",
    "File Formats: https://learn.microsoft.com/en-us/azure/ai-services/openai/how-to/file-search?tabs=python\n",
    "\n",
    "OpenAI FAQ: https://help.openai.com/en/articles/8550641-assistants-api-v2-faq"
   ]
  }
 ],
 "metadata": {
  "language_info": {
   "name": "python"
  }
 },
 "nbformat": 4,
 "nbformat_minor": 5
}
