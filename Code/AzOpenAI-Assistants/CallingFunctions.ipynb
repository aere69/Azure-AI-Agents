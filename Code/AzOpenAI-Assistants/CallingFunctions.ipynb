{
 "cells": [
  {
   "cell_type": "markdown",
   "id": "d3964e6a",
   "metadata": {},
   "source": [
    "# Azure OpenAI Assistans - Calling Functions\n",
    "\n",
    "Travel Agent Assistant"
   ]
  },
  {
   "cell_type": "markdown",
   "id": "0ec9acd1",
   "metadata": {},
   "source": [
    "## Install Dependencies"
   ]
  },
  {
   "cell_type": "code",
   "execution_count": null,
   "id": "65c2cd14",
   "metadata": {
    "vscode": {
     "languageId": "plaintext"
    }
   },
   "outputs": [],
   "source": [
    "%pip install openai\n",
    "%pip install pyhton-dotenv\n"
   ]
  },
  {
   "cell_type": "markdown",
   "id": "0b0ff740",
   "metadata": {},
   "source": [
    "## Load Azure Configuration\n",
    "\n",
    "Create an environment file (.env) that contains the needed Azure OpenAI parameters. Then load the Azure configurations into our notebook."
   ]
  },
  {
   "cell_type": "code",
   "execution_count": null,
   "id": "80286f8d",
   "metadata": {
    "vscode": {
     "languageId": "plaintext"
    }
   },
   "outputs": [],
   "source": [
    "from dotenv import load_dotenv\n",
    "import os\n",
    "\n",
    "azure_openai_endpoint = os.getenv(\"AZURE_OPENAI_ENDPOINT\")\n",
    "azure_openai_key = os.getenv(\"AZURE_OPENAI_API_KEY\")\n",
    "azure_openai_deployment = os.getenv(\"AZURE_OPENAI_CHAT_DEPLOYMENT_NAME\")\n",
    "azure_openai_api_version = os.getenv(\"AZURE_OPENAI_API_VERSION\")"
   ]
  },
  {
   "cell_type": "markdown",
   "id": "32e22924",
   "metadata": {},
   "source": [
    "## Create Functions\n",
    "\n",
    "Define the functions for the travel agent assistant:\n",
    "\n",
    "1. Countries. \n",
    "2. Budget per country. \n",
    "3. Weather per country. \n",
    "\n",
    "The functions may require a parameter.\n",
    "The each function on the list is defined in JSON (name, description, parameters, ...).\n",
    "Each function has to be defined in code (python), with the name of the function in code matching the name set in JSON.\n",
    "\n",
    "This example has hardcoded values, but could call external API's to retreive the needed values."
   ]
  },
  {
   "cell_type": "code",
   "execution_count": null,
   "id": "2a461633",
   "metadata": {
    "vscode": {
     "languageId": "plaintext"
    }
   },
   "outputs": [],
   "source": [
    "# Create a JSON list of functions. \n",
    "tools_function = [\n",
    "    {\n",
    "        \"type\": \"function\",\n",
    "        \"function\": {\n",
    "            \"name\": \"get_countries\",\n",
    "            \"description\": \"Retrieves the countries available.\"\n",
    "        }\n",
    "    },\n",
    "    {\n",
    "        \"type\": \"function\",\n",
    "        \"function\": {\n",
    "            \"name\": \"get_travel_budget\",\n",
    "            \"description\": \"Answers questions if a person has the money to visit a specific country. You will use this function when money is involved in the question\",\n",
    "        }\n",
    "    },\n",
    "    {\n",
    "        \"type\": \"function\",\n",
    "        \"function\": {\n",
    "            \"name\": \"get_weather\",\n",
    "            \"description\": \"Retrieves the weather for a country.\",\n",
    "            \"parameters\": {\n",
    "                \"type\": \"object\",\n",
    "                \"properties\": {\n",
    "                    \"country\": {\n",
    "                        \"type\": \"string\",\n",
    "                        \"description\": \"The country (e.g., 'USA', 'France').\"\n",
    "                    }\n",
    "                },\n",
    "                \"required\": [\"country\"]\n",
    "            }\n",
    "        }\n",
    "    },\n",
    "\n",
    "]\n",
    "\n",
    "# define the functions\n",
    "def get_countries():\n",
    "    return \"\"\"\n",
    "        United States\n",
    "        Australia\n",
    "        France\n",
    "    \"\"\"\n",
    "\n",
    "def get_travel_budget():\n",
    "    return \"\"\"\n",
    "        If country is not defined:\n",
    "            Look at all the budgets per country\n",
    "        United States Budget:\n",
    "            Budget Travelers: Around $121 per day. This includes staying in hostels, eating at budget restaurants, and using public transportation.\n",
    "            Mid-Range Travelers: Approximately $324 per day. This covers mid-range hotels, dining at average restaurants, and some paid attractions.\n",
    "            Luxury Travelers: About $923 per day. This includes luxury hotels, fine dining, and private transportation.\n",
    "        Australia Budget:\n",
    "            Budget Travelers: Around $75 per day. This includes staying in hostels, cooking your own meals, and using public transport.\n",
    "            Mid-Range Travelers: Approximately $195 per day. This covers mid-range hotels, dining at average restaurants, and some paid attractions.\n",
    "            Luxury Travelers: About $517 per day. This includes luxury hotels, fine dining, and private transportation.\n",
    "        France Budget:\n",
    "            Budget Travelers: Around $100 per day. This includes staying in hostels, eating at budget restaurants, and using public transportation.\n",
    "            Mid-Range Travelers: Approximately $286 per day. This covers mid-range hotels, dining at average restaurants, and some paid attractions.\n",
    "            Luxury Travelers: About $908 per day. This includes luxury hotels, fine dining, and private transportation.\n",
    "        \"\"\"\n",
    "def get_weather(country):\n",
    "    if country == \"United States\":\n",
    "        return \"\"\"\n",
    "            The United States has a diverse climate. In general:\n",
    "            - **Winter**: Cold in the north, mild in the south. Average temperatures range from 26.6°F (-3°C) in Alaska to 70.7°F (21.5°C) in Florida.\n",
    "            - **Summer**: Hot and humid in the south, dry in the west. Average temperatures range from 52.7°F (11.5°C) to 70.7°F (21.5°C).\n",
    "        \"\"\"\n",
    "    elif country == \"Australia\":\n",
    "        return \"\"\"\n",
    "            Australia experiences varied climates:\n",
    "            - **Winter**: Mild in the north, cooler in the south. Average temperatures range from 46°F (8°C) in Canberra to 77°F (25°C) in Darwin.\n",
    "            - **Summer**: Hot and dry in the interior, humid in the north. Average temperatures range from 68°F (20°C) in Hobart to 91°F (33°C) in Darwin.\n",
    "        \"\"\"\n",
    "    elif country == \"France\":\n",
    "        return \"\"\"\n",
    "            France has several climate zones:\n",
    "            - **Winter**: Cold in the north, mild in the south. Average temperatures range from 35.5°F (2°C) in the northeast to 48°F (9°C) in the south.\n",
    "            - **Summer**: Warm and sunny. Average temperatures range from 63°F (17°C) in the north to 77°F (25°C) along the Mediterranean coast.\n",
    "        \"\"\"\n",
    "    else:\n",
    "        return \"Country not found\""
   ]
  },
  {
   "cell_type": "markdown",
   "id": "9fe54543",
   "metadata": {},
   "source": [
    "## Step 1-2\n",
    "\n",
    "1. Create an Assistant\n",
    "    Create an OpenAI client using the information on the environment variables.\n",
    "    Create an Assistant using the client previously created, provide a name, instructions, model to use, and the tool list created previously.\n",
    "\n",
    "2. Create a Thread\n",
    "    A Thread is a conversation session between an Assistant and a user.\n",
    "    Threads store Messages and automatically handle truncation to fit content into a model’s context.\n",
    "    Create a Thread for the client."
   ]
  },
  {
   "cell_type": "code",
   "execution_count": null,
   "id": "193012f9",
   "metadata": {
    "vscode": {
     "languageId": "plaintext"
    }
   },
   "outputs": [],
   "source": [
    "from openai import AzureOpenAI\n",
    "\n",
    "client = AzureOpenAI(\n",
    "    api_version=azure_openai_api_version,\n",
    "    azure_endpoint=azure_openai_endpoint,\n",
    "    api_key=azure_openai_key\n",
    ")\n",
    "\n",
    "# Step 1: Create an assistant\n",
    "#\tAssistant is a custom AI that uses Azure OpenAI models in conjunction with tools.\n",
    "# For other parameters: https://learn.microsoft.com/en-us/azure/ai-services/openai/assistants-reference?tabs=python#create-an-assistant\n",
    "assistant = client.beta.assistants.create(\n",
    "  name=\"Travel Assistant\",\n",
    "  instructions=\"\"\"You are an assistant that answers questions about travel.\"\"\",\n",
    "  model=azure_openai_deployment, \n",
    "  tools=tools_function\n",
    ")\n",
    "\n",
    "# Step 2: Create a thread\n",
    "# Thread is a conversation session between an Assistant and a user. \n",
    "# Threads store Messages and automatically handle truncation to fit content into a model’s context.\n",
    "# https://learn.microsoft.com/en-us/azure/ai-services/openai/assistants-reference-threads?tabs=python\n",
    "thread = client.beta.threads.create()\n",
    "print(thread)"
   ]
  },
  {
   "cell_type": "markdown",
   "id": "451a098a",
   "metadata": {},
   "source": [
    "## Step 3-6\n",
    "\n",
    "3. Add a message to the thread\n",
    "4. Run the assistant\n",
    "5. Check the run status\n",
    "6. Display the Assistant's Response"
   ]
  },
  {
   "cell_type": "code",
   "execution_count": null,
   "id": "22f4b79f",
   "metadata": {
    "vscode": {
     "languageId": "plaintext"
    }
   },
   "outputs": [],
   "source": [
    "import time\n",
    "import json\n",
    "\n",
    "def run_assistant(user_question):\n",
    "  # Step 3: Add a message/user question to the thread\n",
    "  # Message is a message created by an Assistant or a user. \n",
    "  # Messages can include text, images, and other files. \n",
    "  # Messages are stored as a list on the Thread.\n",
    "  messages = client.beta.threads.messages.create(\n",
    "    thread_id=thread.id,\n",
    "    role=\"user\",\n",
    "    content=user_question\n",
    "  )\n",
    "\n",
    "  # Step 4: Run the Assistant\n",
    "  # Run is an activation of an Assistant to begin running based on the contents of the Thread. \n",
    "  # The Assistant uses its configuration and the Thread’s Messages to perform tasks by calling models and tools. \n",
    "  # As part of a Run, the Assistant appends Messages to the Thread.\n",
    "  run = client.beta.threads.runs.create(\n",
    "    thread_id=thread.id,\n",
    "    assistant_id=assistant.id\n",
    "  )\n",
    "\n",
    "  # Step 5: Check the Run Status - Looping until the run completes or fails\n",
    "  # When you initiate a Run with a user Message that triggers the function, the Run will enter a \"in_progress\" status. \n",
    "  # After it processes, the run will enter a \"requires_action\" state that you can verify by retrieving the Run.\n",
    "  while run.status in ['queued', 'in_progress', 'cancelling']:\n",
    "    time.sleep(1)\n",
    "    run = client.beta.threads.runs.retrieve(\n",
    "      thread_id=thread.id,\n",
    "      run_id=run.id\n",
    "    )\n",
    "\n",
    "    #display run status\n",
    "    print(run.status)\n",
    "\n",
    "    if run.status == 'completed':\n",
    "      messages = client.beta.threads.messages.list(thread_id=thread.id)\n",
    "\n",
    "      # Step 6: Display the Assistant's Response\n",
    "      content_block = messages.data[0].content[0]\n",
    "      value = content_block.text.value\n",
    "      print(value)\n",
    "    \n",
    "    elif run.status == 'requires_action':\n",
    "      tool_outputs = []\n",
    "      for tool_call in run.required_action.submit_tool_outputs.tool_calls:\n",
    "        function_name = tool_call.function.name\n",
    "        print(\"Function Name: \", function_name)\n",
    "        \n",
    "        function_args = json.loads(tool_call.function.arguments)\n",
    "        print(\"Function Arguments: \", function_args)    \n",
    "        \n",
    "        if function_name == \"get_countries\":\n",
    "          function_response = get_countries()\n",
    "        elif function_name == \"get_travel_budget\":\n",
    "          function_response = get_travel_budget()\n",
    "        elif function_name == \"get_weather\":\n",
    "          function_response = get_weather(country=function_args.get(\"country\"))    \n",
    "        else:\n",
    "          function_response = \"Unknown function\"\n",
    "        print(\"Function Response: \", function_response)\n",
    "\n",
    "        ### You can then complete the Run by submitting the tool output from the function(s) you call. \n",
    "        ### Pass the tool_call_id referenced in the required_action object to match output to each function call.\n",
    "        tool_outputs.append(\n",
    "          { \n",
    "            \"tool_call_id\": tool_call.id,\n",
    "            \"output\": str(function_response)\n",
    "          }\n",
    "        )\n",
    "        print(\"Tool output: \", tool_outputs)\n",
    "        run = client.beta.threads.runs.submit_tool_outputs(\n",
    "          thread_id=thread.id,\n",
    "          run_id=run.id,\n",
    "          tool_outputs = tool_outputs\n",
    "        )\n",
    "\n",
    "    elif run.status == \"failed\":\n",
    "        print(run.last_error)\n",
    "        \n",
    "    else:\n",
    "        pass"
   ]
  },
  {
   "cell_type": "code",
   "execution_count": null,
   "id": "37b4618c",
   "metadata": {
    "vscode": {
     "languageId": "plaintext"
    }
   },
   "outputs": [],
   "source": [
    "user_question =\"\"\"What countries can I visit?\"\"\"\n",
    "run_assistant(user_question)"
   ]
  },
  {
   "cell_type": "markdown",
   "id": "a4ce5a8a",
   "metadata": {},
   "source": [
    "## Step 7\n",
    "\n",
    "7. Append Messages\n"
   ]
  },
  {
   "cell_type": "code",
   "execution_count": null,
   "id": "fef11e35",
   "metadata": {
    "vscode": {
     "languageId": "plaintext"
    }
   },
   "outputs": [],
   "source": [
    "user_question =\"\"\"What is the weather like in the United States?\"\"\"\n",
    "run_assistant(user_question)"
   ]
  },
  {
   "cell_type": "code",
   "execution_count": null,
   "id": "d92a690f",
   "metadata": {
    "vscode": {
     "languageId": "plaintext"
    }
   },
   "outputs": [],
   "source": [
    "user_question =\"\"\"Will $500 fit for a 4 day vacation there?\"\"\"\n",
    "run_assistant(user_question)"
   ]
  },
  {
   "cell_type": "markdown",
   "id": "b6923223",
   "metadata": {},
   "source": [
    "## Delete Assistant\n",
    "\n",
    "Clean up.\n",
    "Given that the assistant has a state and consume resources, it has to be deleted once it is no longer needed."
   ]
  },
  {
   "cell_type": "code",
   "execution_count": null,
   "id": "f6be1d00",
   "metadata": {
    "vscode": {
     "languageId": "plaintext"
    }
   },
   "outputs": [],
   "source": [
    "response = client.beta.assistants.delete(assistant.id)"
   ]
  }
 ],
 "metadata": {
  "language_info": {
   "name": "python"
  }
 },
 "nbformat": 4,
 "nbformat_minor": 5
}
